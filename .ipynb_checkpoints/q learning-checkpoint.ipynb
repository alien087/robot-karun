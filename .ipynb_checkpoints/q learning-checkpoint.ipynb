{
 "cells": [
  {
   "cell_type": "code",
   "execution_count": 1,
   "id": "17332603",
   "metadata": {},
   "outputs": [],
   "source": [
    "import numpy as np\n",
    "from environment import robot_env\n",
    "import random\n",
    "from IPython.display import clear_output\n",
    "import time"
   ]
  },
  {
   "cell_type": "code",
   "execution_count": 2,
   "id": "864b067d",
   "metadata": {},
   "outputs": [],
   "source": [
    "#inisialisasi hyperparameter\n",
    "num_episodes = 1000\n",
    "max_steps_per_episode = 100\n",
    "\n",
    "learning_rate = 0.1\n",
    "discount_rate = 0.99\n",
    "\n",
    "epsilon = 1\n",
    "max_epsilon = 1\n",
    "min_epsilon = 0.1\n",
    "epsilon_decay_rate = 0.1\n",
    "\n",
    "#Change to true if you want render training process\n",
    "render = False\n",
    "#Membuat Environment\n",
    "env = robot_env.initialize_env()\n",
    "\n",
    "#menginisialisasi posisi robot pertama kali (row_start, row_end, env)\n",
    "env = robot_env.initialize_position(0, 0, env)\n",
    "\n",
    "#Membuat array yang berisikan action apa saja yang bisa diambil\n",
    "actions = robot_env.action_space()\n",
    "# kiri = 0, kanan = 1, atas = 2, bawah = 3\n",
    "\n",
    "#Initiaslisasi Q-Table\n",
    "q_table = np.zeros((env.size, actions.size))\n",
    "\n",
    "#inisialisasi reward\n",
    "#Reward :\n",
    "#Empty = -1\n",
    "#Fire = -10\n",
    "#2 Harta = +25\n",
    "#1 Harta = +10\n",
    "reward_all_episode = []\n"
   ]
  },
  {
   "cell_type": "code",
   "execution_count": 3,
   "id": "d7826f07",
   "metadata": {},
   "outputs": [],
   "source": [
    "def choose_action(epsilon, state):\n",
    "    random_num = random.uniform(0, 1)\n",
    "    if (random_num < epsilon):\n",
    "        action = np.random.choice(actions, 1)[0]\n",
    "        \n",
    "    else:\n",
    "        index_state = state[0] + (state[0]*3) + state[1]\n",
    "        action = np.argmax(q_table[index_state, :])\n",
    "       \n",
    "    return action\n",
    "\n",
    "def update_q_table(state_, new_state):\n",
    "    index_state = state_[0] + (state_[0]*3) + state_[1]\n",
    "    index_new_state = new_state[0] + (new_state[0]*3) + new_state[1]\n",
    "    \n",
    "    \n",
    "    q_table[index_state, action] = q_table[index_state, action] + (learning_rate * (reward + (discount_rate * np.max(q_table[index_new_state, :]) - q_table[index_state, action])))"
   ]
  },
  {
   "cell_type": "code",
   "execution_count": 4,
   "id": "9bbaba93",
   "metadata": {},
   "outputs": [],
   "source": [
    "for episode in range(num_episodes):\n",
    "    env = robot_env.initialize_env()\n",
    "    env = robot_env.initialize_position(0, 0, env)\n",
    "    state = (0,0)\n",
    "    done = False\n",
    "    rewards_current_episode = 0\n",
    "    \n",
    "    for step in range(max_steps_per_episode):\n",
    "        #choose action  (epislon greedy)\n",
    "        action = choose_action(epsilon, state)\n",
    "        #take action and get reward and next state\n",
    "        new_state, reward, done, env = robot_env.take_action(action, env, render)\n",
    "        if render :\n",
    "            clear_output(wait=True)\n",
    "            time.sleep(0.2)\n",
    "\n",
    "        #update q table\n",
    "        update_q_table(state, new_state)\n",
    "        #change current state\n",
    "        state = new_state\n",
    "        rewards_current_episode += reward \n",
    "        \n",
    "        #check if already on termination state\n",
    "        if done:\n",
    "            break\n",
    "       \n",
    "    \n",
    "    # Exploration rate decay\n",
    "    epsilon = min_epsilon + (max_epsilon - min_epsilon) * np.exp(-epsilon_decay_rate*episode)\n",
    "    \n",
    "    #Add current episode reward to all episode reward\n",
    "    reward_all_episode.append(rewards_current_episode)"
   ]
  },
  {
   "cell_type": "code",
   "execution_count": 5,
   "id": "7094a42a",
   "metadata": {},
   "outputs": [
    {
     "name": "stdout",
     "output_type": "stream",
     "text": [
      "[[21.29394502 23.75       21.70693464 17.75079149]\n",
      " [20.74527506 17.78068086 22.14191165 25.        ]\n",
      " [22.41234271 -0.43723    -0.1        -1.9       ]\n",
      " [-0.2809     -0.1999     -0.1999     -0.271     ]\n",
      " [ 1.84426945 23.20525503  4.18113889 -0.30152402]\n",
      " [ 0.          0.          0.          0.        ]\n",
      " [ 0.          0.          0.          0.        ]\n",
      " [-1.         -0.1        -0.1         1.        ]\n",
      " [-0.19        1.14863075 -0.19       -0.10771487]\n",
      " [-0.13180006 -0.19        6.775       0.        ]\n",
      " [ 0.28025     0.          0.         -0.1       ]\n",
      " [ 0.          0.          0.          0.        ]]\n"
     ]
    }
   ],
   "source": [
    "print(q_table)"
   ]
  },
  {
   "cell_type": "code",
   "execution_count": 15,
   "id": "d12f767f",
   "metadata": {},
   "outputs": [],
   "source": [
    "def play_with_optimal_q_table():\n",
    "    done = False\n",
    "    env = robot_env.initialize_env()\n",
    "    env = robot_env.initialize_position(0, 0, env)\n",
    "    state = (0,0)\n",
    "    rewards_current_episode = 0\n",
    "    print(env)\n",
    "    print(\"Envinronemnt Awal\")\n",
    "    clear_output(wait=True)\n",
    "    time.sleep(3)\n",
    "    while(not done):\n",
    "        \n",
    "        if(state == [1,1] or state == [1,2] or state == [2,3]):\n",
    "            done = True\n",
    "            \n",
    "        index_state = state[0] + (state[0]*3) + state[1]\n",
    "        action = np.argmax(q_table[index_state, :])\n",
    "        new_state, reward, done, env = robot_env.take_action(action, env, True)\n",
    "        print(f\"Take Action {action}\")\n",
    "        print(\"Action : \\n0 = Kiri 1 = Kanan 2 = Atas 3 = Bawah\")\n",
    "        clear_output(wait=True)\n",
    "        time.sleep(3)\n",
    "        state = new_state\n",
    "        rewards_current_episode += reward "
   ]
  },
  {
   "cell_type": "code",
   "execution_count": 16,
   "id": "5fe21310",
   "metadata": {},
   "outputs": [
    {
     "name": "stdout",
     "output_type": "stream",
     "text": [
      "[[  0.   0.   0.   0.]\n",
      " [  0.   1. -10.   0.]\n",
      " [  0.   0.   0.  10.]]\n",
      "Take Action 3\n",
      "Action : \n",
      "0 = Kiri 1 = Kanan 2 = Atas 3 = Bawah\n"
     ]
    }
   ],
   "source": [
    "play_with_optimal_q_table()"
   ]
  },
  {
   "cell_type": "code",
   "execution_count": null,
   "id": "54d9c914",
   "metadata": {},
   "outputs": [],
   "source": []
  }
 ],
 "metadata": {
  "kernelspec": {
   "display_name": "Python 3 (ipykernel)",
   "language": "python",
   "name": "python3"
  },
  "language_info": {
   "codemirror_mode": {
    "name": "ipython",
    "version": 3
   },
   "file_extension": ".py",
   "mimetype": "text/x-python",
   "name": "python",
   "nbconvert_exporter": "python",
   "pygments_lexer": "ipython3",
   "version": "3.9.7"
  }
 },
 "nbformat": 4,
 "nbformat_minor": 5
}
