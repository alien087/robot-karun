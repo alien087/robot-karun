{
 "cells": [
  {
   "cell_type": "code",
   "execution_count": 114,
   "id": "be910819",
   "metadata": {},
   "outputs": [],
   "source": [
    "import numpy as np\n",
    "import time\n",
    "from IPython.display import clear_output"
   ]
  },
  {
   "cell_type": "code",
   "execution_count": 91,
   "id": "34e80e06",
   "metadata": {},
   "outputs": [],
   "source": [
    "def initialize_env():\n",
    "    env = np.zeros((3,4))\n",
    "    env[1,1] = 25\n",
    "    env[1,2] = -10\n",
    "    env[2,3] = 10\n",
    "    return env\n",
    "\n",
    "def initialize_position(row, col, env=False):\n",
    "    env[row, col] = 1\n",
    "    return env\n",
    "\n",
    "def action_space():\n",
    "    return np.array(['KIRI','KANAN','ATAS','BAWAH'])\n",
    "\n",
    "def take_action(action, env, render):\n",
    "    position = np.where(env==1)\n",
    "    row_thres = env.shape[0]\n",
    "    col_thres = env.shape[1]\n",
    "    row_start = position[0][0]\n",
    "    col_start = position[1][0]\n",
    "    env[row_start][col_start] = 0\n",
    "    \n",
    "    row_end = row_start\n",
    "    col_end = col_start\n",
    "    \n",
    "    if(action=='KIRI' or action=='kiri'):\n",
    "        if(col_end-1 < 0):\n",
    "            pass\n",
    "        else:\n",
    "            col_end = col_end-1\n",
    "    \n",
    "    if(action=='KANAN' or action=='kanan'):\n",
    "        if(col_end+1 >= col_thres):\n",
    "            pass\n",
    "        else:\n",
    "            col_end = col_end+1\n",
    "            \n",
    "    if(action=='ATAS' or action=='atas'):\n",
    "        if(row_end-1 < 0):\n",
    "            pass\n",
    "        else:\n",
    "            row_end = row_end - 1\n",
    "            \n",
    "    \n",
    "    if(action=='BAWAH' or action=='bawah'):\n",
    "        if(row_end+1 >= row_thres):\n",
    "            pass\n",
    "        else:\n",
    "            row_end = row_end+1\n",
    "            \n",
    "    env[row_end][col_end] = 1\n",
    "    \n",
    "    if(render):\n",
    "        print(env)\n",
    "    \n",
    "    return env\n",
    "            \n",
    "    "
   ]
  }
 ],
 "metadata": {
  "kernelspec": {
   "display_name": "Python 3 (ipykernel)",
   "language": "python",
   "name": "python3"
  },
  "language_info": {
   "codemirror_mode": {
    "name": "ipython",
    "version": 3
   },
   "file_extension": ".py",
   "mimetype": "text/x-python",
   "name": "python",
   "nbconvert_exporter": "python",
   "pygments_lexer": "ipython3",
   "version": "3.9.7"
  }
 },
 "nbformat": 4,
 "nbformat_minor": 5
}
