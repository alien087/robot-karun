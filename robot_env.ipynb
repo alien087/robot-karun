{
 "cells": [
  {
   "cell_type": "code",
   "execution_count": 1,
   "id": "1c505fbf",
   "metadata": {},
   "outputs": [],
   "source": [
    "import numpy as np\n",
    "import math"
   ]
  },
  {
   "cell_type": "code",
   "execution_count": 75,
   "id": "7bb67cef",
   "metadata": {},
   "outputs": [],
   "source": [
    "def initialize_env():\n",
    "    env = np.zeros((3,4))\n",
    "    env[1,1] = 25\n",
    "    env[1,2] = -10\n",
    "    env[2,3] = 10\n",
    "    return env\n",
    "\n",
    "def initialize_position(row, col, env):\n",
    "    env[row, col] = 1\n",
    "    return env\n",
    "\n",
    "def action_space():\n",
    "    return np.array(['KIRI','KANAN','ATAS','BAWAH'])\n",
    "\n",
    "def take_action(action, env):\n",
    "    position = np.where(env==1)\n",
    "    row_thres = env.shape[0]\n",
    "    col_thres = env.shape[1]\n",
    "    row_start = position[0][0]\n",
    "    col_start = position[1][0]\n",
    "    env[row_start][col_start] = 0\n",
    "    \n",
    "    row_end = row_start\n",
    "    col_end = col_start\n",
    "    \n",
    "    if(action=='KIRI' or action=='kiri'):\n",
    "        if(col_end-1 < 0):\n",
    "            pass\n",
    "        else:\n",
    "            col_end = col_end-1\n",
    "    \n",
    "    if(action=='KANAN' or action=='kanan'):\n",
    "        if(col_end+1 >= col_thres):\n",
    "            pass\n",
    "        else:\n",
    "            col_end = col_end+1\n",
    "            \n",
    "    if(action=='ATAS' or action=='atas'):\n",
    "        if(row_end-1 < 0):\n",
    "            pass\n",
    "        else:\n",
    "            row_end = row_end - 1\n",
    "            \n",
    "    \n",
    "    if(action=='BAWAH' or action=='bawah'):\n",
    "        if(row_end+1 >= row_thres):\n",
    "            pass\n",
    "        else:\n",
    "            row_end = row_end+1\n",
    "            \n",
    "    env[row_end][col_end] = 1\n",
    "    \n",
    "    return env\n",
    "            "
   ]
  },
  {
   "cell_type": "code",
   "execution_count": 76,
   "id": "2c6bf9b7",
   "metadata": {},
   "outputs": [],
   "source": [
    "env = initialize_env()"
   ]
  },
  {
   "cell_type": "code",
   "execution_count": 77,
   "id": "0777c37e",
   "metadata": {},
   "outputs": [],
   "source": [
    "env = initialize_position(0,0,env)"
   ]
  },
  {
   "cell_type": "code",
   "execution_count": 78,
   "id": "e43d2958",
   "metadata": {},
   "outputs": [
    {
     "data": {
      "text/plain": [
       "array(['KIRI', 'KANAN', 'ATAS', 'BAWAH'], dtype='<U5')"
      ]
     },
     "execution_count": 78,
     "metadata": {},
     "output_type": "execute_result"
    }
   ],
   "source": [
    "action_space()"
   ]
  },
  {
   "cell_type": "code",
   "execution_count": 79,
   "id": "575bac88",
   "metadata": {},
   "outputs": [
    {
     "data": {
      "text/plain": [
       "array([[  1.,   0.,   0.,   0.],\n",
       "       [  0.,  25., -10.,   0.],\n",
       "       [  0.,   0.,   0.,  10.]])"
      ]
     },
     "execution_count": 79,
     "metadata": {},
     "output_type": "execute_result"
    }
   ],
   "source": [
    "env"
   ]
  },
  {
   "cell_type": "code",
   "execution_count": 88,
   "id": "69e10995",
   "metadata": {},
   "outputs": [],
   "source": [
    "env = take_action('bawah', env)"
   ]
  },
  {
   "cell_type": "code",
   "execution_count": 89,
   "id": "d30349dd",
   "metadata": {},
   "outputs": [
    {
     "data": {
      "text/plain": [
       "array([[  0.,   0.,   0.,   0.],\n",
       "       [  1.,  25., -10.,   0.],\n",
       "       [  0.,   0.,   0.,  10.]])"
      ]
     },
     "execution_count": 89,
     "metadata": {},
     "output_type": "execute_result"
    }
   ],
   "source": [
    "env"
   ]
  },
  {
   "cell_type": "code",
   "execution_count": 63,
   "id": "e9f34e08",
   "metadata": {},
   "outputs": [
    {
     "data": {
      "text/plain": [
       "(3, 4)"
      ]
     },
     "execution_count": 63,
     "metadata": {},
     "output_type": "execute_result"
    }
   ],
   "source": [
    "env.shape"
   ]
  },
  {
   "cell_type": "code",
   "execution_count": null,
   "id": "b7f60b58",
   "metadata": {},
   "outputs": [],
   "source": []
  }
 ],
 "metadata": {
  "kernelspec": {
   "display_name": "Python 3 (ipykernel)",
   "language": "python",
   "name": "python3"
  },
  "language_info": {
   "codemirror_mode": {
    "name": "ipython",
    "version": 3
   },
   "file_extension": ".py",
   "mimetype": "text/x-python",
   "name": "python",
   "nbconvert_exporter": "python",
   "pygments_lexer": "ipython3",
   "version": "3.9.7"
  }
 },
 "nbformat": 4,
 "nbformat_minor": 5
}
