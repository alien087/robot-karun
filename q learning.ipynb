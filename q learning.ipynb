{
 "cells": [
  {
   "cell_type": "code",
   "execution_count": 1,
   "id": "ecf5683c",
   "metadata": {},
   "outputs": [],
   "source": [
    "import numpy as np\n",
    "import robot_env"
   ]
  },
  {
   "cell_type": "code",
   "execution_count": 8,
   "id": "f4edb20b",
   "metadata": {},
   "outputs": [],
   "source": [
    "#Membuat Environment\n",
    "env = robot_env.initialize_env()"
   ]
  },
  {
   "cell_type": "code",
   "execution_count": 9,
   "id": "cbb8d3e7",
   "metadata": {},
   "outputs": [],
   "source": [
    "#menginisialisasi posisi robot pertama kali (row_start, row_end, env)\n",
    "env = robot_env.initialize_position(0, 0, env)"
   ]
  },
  {
   "cell_type": "code",
   "execution_count": 10,
   "id": "ede3c0a1",
   "metadata": {},
   "outputs": [
    {
     "data": {
      "text/plain": [
       "array([[  1.,   0.,   0.,   0.],\n",
       "       [  0.,  25., -10.,   0.],\n",
       "       [  0.,   0.,   0.,  10.]])"
      ]
     },
     "execution_count": 10,
     "metadata": {},
     "output_type": "execute_result"
    }
   ],
   "source": [
    "env"
   ]
  },
  {
   "cell_type": "code",
   "execution_count": 11,
   "id": "fd13d3d3",
   "metadata": {},
   "outputs": [],
   "source": [
    "#Membuat array yang berisikan action apa saja yang bisa diambil\n",
    "actions = robot_env.action_space()"
   ]
  },
  {
   "cell_type": "code",
   "execution_count": 12,
   "id": "de55b5f3",
   "metadata": {},
   "outputs": [
    {
     "data": {
      "text/plain": [
       "array(['KIRI', 'KANAN', 'ATAS', 'BAWAH'], dtype='<U5')"
      ]
     },
     "execution_count": 12,
     "metadata": {},
     "output_type": "execute_result"
    }
   ],
   "source": [
    "actions"
   ]
  },
  {
   "cell_type": "code",
   "execution_count": 16,
   "id": "3152c115",
   "metadata": {},
   "outputs": [],
   "source": [
    "#Initiaslisasi Q-Table\n",
    "q_table = np.zeros((env.size, actions.size))"
   ]
  },
  {
   "cell_type": "code",
   "execution_count": 17,
   "id": "f1f9dc1c",
   "metadata": {},
   "outputs": [
    {
     "data": {
      "text/plain": [
       "array([[0., 0., 0., 0.],\n",
       "       [0., 0., 0., 0.],\n",
       "       [0., 0., 0., 0.],\n",
       "       [0., 0., 0., 0.],\n",
       "       [0., 0., 0., 0.],\n",
       "       [0., 0., 0., 0.],\n",
       "       [0., 0., 0., 0.],\n",
       "       [0., 0., 0., 0.],\n",
       "       [0., 0., 0., 0.],\n",
       "       [0., 0., 0., 0.],\n",
       "       [0., 0., 0., 0.],\n",
       "       [0., 0., 0., 0.]])"
      ]
     },
     "execution_count": 17,
     "metadata": {},
     "output_type": "execute_result"
    }
   ],
   "source": [
    "q_table"
   ]
  },
  {
   "cell_type": "code",
   "execution_count": null,
   "id": "63e18881",
   "metadata": {},
   "outputs": [],
   "source": [
    "for i in range(3):\n",
    "    action = np.random.choice(actions, 1)[0]\n",
    "    env = take_action(action, env, True)\n",
    "    clear_output(wait=True)\n",
    "    time.sleep(0.5)"
   ]
  }
 ],
 "metadata": {
  "kernelspec": {
   "display_name": "Python 3 (ipykernel)",
   "language": "python",
   "name": "python3"
  },
  "language_info": {
   "codemirror_mode": {
    "name": "ipython",
    "version": 3
   },
   "file_extension": ".py",
   "mimetype": "text/x-python",
   "name": "python",
   "nbconvert_exporter": "python",
   "pygments_lexer": "ipython3",
   "version": "3.9.7"
  }
 },
 "nbformat": 4,
 "nbformat_minor": 5
}
