{
 "cells": [
  {
   "cell_type": "code",
   "execution_count": 1,
   "id": "7f338b51",
   "metadata": {},
   "outputs": [],
   "source": [
    "import numpy as np\n",
    "from environment import robot_env\n",
    "import random\n",
    "from IPython.display import clear_output\n",
    "import time"
   ]
  },
  {
   "cell_type": "code",
   "execution_count": 2,
   "id": "03b7d46d",
   "metadata": {},
   "outputs": [],
   "source": [
    "#inisialisasi hyperparameter\n",
    "num_episodes = 1000\n",
    "max_steps_per_episode = 100\n",
    "\n",
    "learning_rate = 0.1\n",
    "discount_rate = 0.99\n",
    "\n",
    "epsilon = 1\n",
    "max_epsilon = 1\n",
    "min_epsilon = 0.01\n",
    "epsilon_decay_rate = 0.1\n",
    "\n",
    "#Membuat Environment\n",
    "env = robot_env.initialize_env()\n",
    "\n",
    "#menginisialisasi posisi robot pertama kali (row_start, row_end, env)\n",
    "env = robot_env.initialize_position(0, 0, env)\n",
    "\n",
    "#Membuat array yang berisikan action apa saja yang bisa diambil\n",
    "actions = robot_env.action_space()\n",
    "# kiri = 0, kanan = 1, atas = 2, bawah = 3\n",
    "\n",
    "#Initiaslisasi Q-Table\n",
    "q_table = np.zeros((env.size, actions.size))\n",
    "\n",
    "#inisialisasi reward\n",
    "#Reward :\n",
    "#Empty = -1\n",
    "#Fire = -10\n",
    "#2 Harta = +25\n",
    "#1 Harta = +10\n",
    "reward_all_episode = []\n"
   ]
  },
  {
   "cell_type": "code",
   "execution_count": 3,
   "id": "5c2fe24f",
   "metadata": {},
   "outputs": [],
   "source": [
    "def choose_action(epsilon, state):\n",
    "    random_num = random.uniform(0, 1)\n",
    "    if (random_num < epsilon):\n",
    "        action = np.random.choice(actions, 1)[0]\n",
    "        \n",
    "    else:\n",
    "        index_state = state[0] + (state[0]*3) + state[0]\n",
    "        action = np.argmax(q_table[index_state, :])\n",
    "       \n",
    "    return action\n",
    "\n",
    "def update_q_table(state_, new_state):\n",
    "    index_state = state_[0] + (state_[0]*3) + state_[0]\n",
    "    index_new_state = new_state[0] + (new_state[0]*3) + new_state[0]\n",
    "    \n",
    "    \n",
    "    q_table[index_state, action] = q_table[index_state, action] + (learning_rate * (reward + (discount_rate * np.max(q_table[index_new_state, :]) - q_table[index_state, action])))"
   ]
  },
  {
   "cell_type": "code",
   "execution_count": 4,
   "id": "679bc8ea",
   "metadata": {},
   "outputs": [],
   "source": [
    "for episode in range(num_episodes):\n",
    "    env = robot_env.initialize_env()\n",
    "    env = robot_env.initialize_position(0, 0, env)\n",
    "    state = (0,0)\n",
    "    done = False\n",
    "    rewards_current_episode = 0\n",
    "    \n",
    "    for step in range(max_steps_per_episode):\n",
    "        #choose action  (epislon greedy)\n",
    "        action = choose_action(epsilon, state)\n",
    "        #take action and get reward and next state\n",
    "        new_state, reward, done, env = robot_env.take_action(action, env, False)\n",
    "        #Uncommend this code if you render the environment\n",
    "#         clear_output(wait=True)\n",
    "#         time.sleep(0.2)\n",
    "        #update q table\n",
    "        update_q_table(state, new_state)\n",
    "        #change current state\n",
    "        rewards_current_episode += reward \n",
    "        \n",
    "        #check if already on termination state\n",
    "        if done:\n",
    "            break\n",
    "        state = new_state\n",
    "    \n",
    "    # Exploration rate decay\n",
    "    epsilon = min_epsilon + (max_epsilon - min_epsilon) * np.exp(-epsilon_decay_rate*episode)\n",
    "    \n",
    "    #Add current episode reward to all episode reward\n",
    "    reward_all_episode.append(rewards_current_episode)"
   ]
  },
  {
   "cell_type": "code",
   "execution_count": 5,
   "id": "7f6350d2",
   "metadata": {},
   "outputs": [
    {
     "name": "stdout",
     "output_type": "stream",
     "text": [
      "[[ 1.13691543e+02  7.13354800e+01 -1.89270848e-01  1.54737436e+03]\n",
      " [ 0.00000000e+00  0.00000000e+00  0.00000000e+00  0.00000000e+00]\n",
      " [ 0.00000000e+00  0.00000000e+00  0.00000000e+00  0.00000000e+00]\n",
      " [ 0.00000000e+00  0.00000000e+00  0.00000000e+00  0.00000000e+00]\n",
      " [ 0.00000000e+00  0.00000000e+00  0.00000000e+00  0.00000000e+00]\n",
      " [ 3.31617637e+02  1.57337433e+03  4.50811316e+02  9.58205598e+00]\n",
      " [ 0.00000000e+00  0.00000000e+00  0.00000000e+00  0.00000000e+00]\n",
      " [ 0.00000000e+00  0.00000000e+00  0.00000000e+00  0.00000000e+00]\n",
      " [ 0.00000000e+00  0.00000000e+00  0.00000000e+00  0.00000000e+00]\n",
      " [ 0.00000000e+00  0.00000000e+00  0.00000000e+00  0.00000000e+00]\n",
      " [-1.00000000e-01 -1.00000000e-01  2.09285764e+02 -1.90000000e-01]\n",
      " [ 0.00000000e+00  0.00000000e+00  0.00000000e+00  0.00000000e+00]]\n"
     ]
    }
   ],
   "source": [
    "print(q_table)"
   ]
  },
  {
   "cell_type": "code",
   "execution_count": null,
   "id": "14c6e31b",
   "metadata": {},
   "outputs": [],
   "source": []
  }
 ],
 "metadata": {
  "kernelspec": {
   "display_name": "Python 3 (ipykernel)",
   "language": "python",
   "name": "python3"
  },
  "language_info": {
   "codemirror_mode": {
    "name": "ipython",
    "version": 3
   },
   "file_extension": ".py",
   "mimetype": "text/x-python",
   "name": "python",
   "nbconvert_exporter": "python",
   "pygments_lexer": "ipython3",
   "version": "3.9.7"
  }
 },
 "nbformat": 4,
 "nbformat_minor": 5
}
